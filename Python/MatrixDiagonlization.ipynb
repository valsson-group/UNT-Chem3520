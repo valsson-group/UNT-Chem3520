{
 "cells": [
  {
   "cell_type": "markdown",
   "id": "fd87b0c3",
   "metadata": {},
   "source": [
    "# Matrix Diagonlization\n",
    "\n",
    "Example of a diagonlization of a matrix to obtain the eigenvalues and eigenvectors using python and numpy.\n",
    "\n",
    "**This is run in Jupyter notebook were you can run python commands in cells. You need to run through the cells step by step. You can change cells and re-run them, but then you need to re-run also all subsequent cells**"
   ]
  },
  {
   "cell_type": "markdown",
   "id": "1071126e",
   "metadata": {},
   "source": [
    "## Import packages\n",
    "We first need to import the numpy package "
   ]
  },
  {
   "cell_type": "code",
   "execution_count": null,
   "id": "4a25802e",
   "metadata": {},
   "outputs": [],
   "source": [
    "import numpy"
   ]
  },
  {
   "cell_type": "markdown",
   "id": "41b6d916",
   "metadata": {},
   "source": [
    "## Define Matrix\n",
    "Then we need to define the matrix to be diagonlization. Here we are using the example from 9E.1 in Atkins' for butadiene. \n",
    "\n",
    "The matrix is set up row by row. \n",
    "\n",
    "**This is the part that you will need to change.**"
   ]
  },
  {
   "cell_type": "code",
   "execution_count": null,
   "id": "185899f4",
   "metadata": {},
   "outputs": [],
   "source": [
    "B = numpy.array(\n",
    "    [\n",
    "    [0,  1,  0,  0],\n",
    "    [1,  0,  1,  0],\n",
    "    [0,  1,  0,  1],\n",
    "    [0,  0,  1,  0]\n",
    "    ]\n",
    "    )\n",
    "\n",
    "print(\"Matrix to be diagonlized:\")    \n",
    "print(B)\n",
    "print(\"\")  "
   ]
  },
  {
   "cell_type": "markdown",
   "id": "6e254fad",
   "metadata": {},
   "source": [
    "## Calculate Eigenvalues and Eigenvectors\n",
    "\n",
    "We then obtain the eigenvalues and eigenvectors using the [numpy.linalg.eig](https://numpy.org/doc/stable/reference/generated/numpy.linalg.eig.html) function from numpy. \n",
    " \n",
    "This function outputs the eigenvalues and eigenvectors in two arrays:\n",
    "- eigenvectors is the matrix that diagonlized the B mmatrix\n",
    "- eigenvector[:,i] is the eigenvector corresponding to the eigenvalue in eigenvalues[i]"
   ]
  },
  {
   "cell_type": "code",
   "execution_count": null,
   "id": "e025707c",
   "metadata": {},
   "outputs": [],
   "source": [
    "[eigenvalues,eigenvectors] = numpy.linalg.eig(B)\n",
    "\n",
    "print(\"Eigenvalues:\")\n",
    "for e in eigenvalues:\n",
    "    print(\"  {:6.4f}\".format(e))\n",
    "print(\"\")\n",
    "\n",
    "print(\"Eigenvector matrix:\")\n",
    "print(eigenvectors)\n",
    "print(\"\")"
   ]
  },
  {
   "cell_type": "markdown",
   "id": "e18f8569",
   "metadata": {},
   "source": [
    "**Note that the eigenvalues and eigenvectors are in a different order as compared to the example in the book.**\n",
    "\n",
    "**Note that the eigenvalues (and corresponding eigenvectors) are not ordered. Thus you need to order them yourself, e.g, from the highest to the lowest** \n",
    "\n",
    "We then output the result is nicer formating"
   ]
  },
  {
   "cell_type": "code",
   "execution_count": null,
   "id": "84be43d8",
   "metadata": {},
   "outputs": [],
   "source": [
    "print(\"Eigenvectors\")\n",
    "print(\"\")\n",
    "for i in range(eigenvalues.size):\n",
    "    print(\"Eigenvector corresponding to eigenvalue {:6.4f}\".format(eigenvalues[i]))\n",
    "    print(eigenvectors[:,i])\n",
    "    print(\"\")"
   ]
  },
  {
   "cell_type": "code",
   "execution_count": null,
   "id": "ed305223",
   "metadata": {},
   "outputs": [],
   "source": []
  }
 ],
 "metadata": {
  "kernelspec": {
   "display_name": "Python 3 (ipykernel)",
   "language": "python",
   "name": "python3"
  },
  "language_info": {
   "codemirror_mode": {
    "name": "ipython",
    "version": 3
   },
   "file_extension": ".py",
   "mimetype": "text/x-python",
   "name": "python",
   "nbconvert_exporter": "python",
   "pygments_lexer": "ipython3",
   "version": "3.11.0"
  }
 },
 "nbformat": 4,
 "nbformat_minor": 5
}
