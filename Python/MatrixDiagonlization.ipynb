{
 "cells": [
  {
   "cell_type": "markdown",
   "id": "fd87b0c3",
   "metadata": {},
   "source": [
    "# Matrix Diagonlization\n",
    "\n",
    "Example of a diagonlization of a matrix to obtain the eigenvalues and eigenvectors using python and numpy.\n",
    "\n",
    "**This is run in Jupyter notebook were you can run python commands in cells. You need to run through the cells step by step. You can change cells and re-run them, but then you need to re-run also all subsequent cells**"
   ]
  },
  {
   "cell_type": "markdown",
   "id": "1071126e",
   "metadata": {},
   "source": [
    "## Import packages\n",
    "We first need to import the numpy package "
   ]
  },
  {
   "cell_type": "code",
   "execution_count": 1,
   "id": "4a25802e",
   "metadata": {},
   "outputs": [],
   "source": [
    "import numpy"
   ]
  },
  {
   "cell_type": "markdown",
   "id": "41b6d916",
   "metadata": {},
   "source": [
    "## Define Matrix\n",
    "Then we need to define the matrix to be diagonlization. Here we are using the example from 9E.1 in Atkins' for butadiene. \n",
    "\n",
    "The matrix is set up row by row. \n",
    "\n",
    "**This is the part that you will need to change.**"
   ]
  },
  {
   "cell_type": "code",
   "execution_count": 5,
   "id": "185899f4",
   "metadata": {},
   "outputs": [
    {
     "name": "stdout",
     "output_type": "stream",
     "text": [
      "Matrix to be diagonlized:\n",
      "[[0 1 0 0]\n",
      " [1 0 1 0]\n",
      " [0 1 0 1]\n",
      " [0 0 1 0]]\n",
      "\n"
     ]
    }
   ],
   "source": [
    "B=numpy.array(\n",
    "    [\n",
    "    [0,  1,  0,  0],\n",
    "    [1,  0,  1,  0],\n",
    "    [0,  1,  0,  1],\n",
    "    [0,  0,  1,  0]\n",
    "    ]\n",
    "    )\n",
    "\n",
    "print(\"Matrix to be diagonlized:\")    \n",
    "print(B)\n",
    "print(\"\")  "
   ]
  },
  {
   "cell_type": "markdown",
   "id": "6e254fad",
   "metadata": {},
   "source": [
    "## Calculate Eigenvalues and Eigenvectors\n",
    "\n",
    "We then obtain the eigenvalues and eigenvectors using the [numpy.linalg.eig](https://numpy.org/doc/stable/reference/generated/numpy.linalg.eig.html) function from numpy. \n",
    " \n",
    "This function outputs the eigenvalues and eigenvectors in two arrays:\n",
    "- eigenvectors is the matrix that diagonlized the B mmatrix\n",
    "- eigenvector[:,i] is the eigenvector corresponding to the eigenvalue in eigenvalues[i]"
   ]
  },
  {
   "cell_type": "code",
   "execution_count": 6,
   "id": "e025707c",
   "metadata": {},
   "outputs": [
    {
     "name": "stdout",
     "output_type": "stream",
     "text": [
      "Eigenvalues:\n",
      "  -1.6180\n",
      "  -0.6180\n",
      "  1.6180\n",
      "  0.6180\n",
      "\n",
      "Eigenvector matrix:\n",
      "[[ 0.37174803  0.60150096 -0.37174803 -0.60150096]\n",
      " [-0.60150096 -0.37174803 -0.60150096 -0.37174803]\n",
      " [ 0.60150096 -0.37174803 -0.60150096  0.37174803]\n",
      " [-0.37174803  0.60150096 -0.37174803  0.60150096]]\n",
      "\n"
     ]
    }
   ],
   "source": [
    "[eigenvalues,eigenvectors]=numpy.linalg.eig(B)\n",
    "\n",
    "print(\"Eigenvalues:\")\n",
    "for e in eigenvalues:\n",
    "    print(\"  {:6.4f}\".format(e))\n",
    "print(\"\")\n",
    "\n",
    "print(\"Eigenvector matrix:\")\n",
    "print(eigenvectors)\n",
    "print(\"\")"
   ]
  },
  {
   "cell_type": "markdown",
   "id": "e18f8569",
   "metadata": {},
   "source": [
    "**Note that the eigenvalues and eigenvectors are in a different order as compared to the example in the book.**\n",
    "\n",
    "**Note that the eigenvalues (and corresponding eigenvectors) are not ordered. Thus you need to order them yourself, e.g, from the highest to the lowest** \n",
    "\n",
    "We then output the result is nicer formating"
   ]
  },
  {
   "cell_type": "code",
   "execution_count": 4,
   "id": "84be43d8",
   "metadata": {},
   "outputs": [
    {
     "name": "stdout",
     "output_type": "stream",
     "text": [
      "Eigenvectors\n",
      "\n",
      "Eigenvector corresponding to eigenvalue -1.0931\n",
      "[-0.50300449  0.54981628 -0.64779637  0.15826684]\n",
      "\n",
      "Eigenvector corresponding to eigenvalue -0.1446\n",
      "[-0.74793618  0.10818832  0.62409851 -0.19846364]\n",
      "\n",
      "Eigenvector corresponding to eigenvalue 1.8883\n",
      "[ 0.43050565  0.81291804  0.29159852 -0.26229648]\n",
      "\n",
      "Eigenvector corresponding to eigenvalue 3.3494\n",
      "[0.04735857 0.15862408 0.32531711 0.9310018 ]\n",
      "\n"
     ]
    }
   ],
   "source": [
    "print(\"Eigenvectors\")\n",
    "print(\"\")\n",
    "for i in range(eigenvalues.size):\n",
    "    print(\"Eigenvector corresponding to eigenvalue {:6.4f}\".format(eigenvalues[i]))\n",
    "    print(eigenvectors[:,i])\n",
    "    print(\"\")"
   ]
  },
  {
   "cell_type": "code",
   "execution_count": null,
   "id": "ed305223",
   "metadata": {},
   "outputs": [],
   "source": []
  }
 ],
 "metadata": {
  "kernelspec": {
   "display_name": "Python 3 (ipykernel)",
   "language": "python",
   "name": "python3"
  },
  "language_info": {
   "codemirror_mode": {
    "name": "ipython",
    "version": 3
   },
   "file_extension": ".py",
   "mimetype": "text/x-python",
   "name": "python",
   "nbconvert_exporter": "python",
   "pygments_lexer": "ipython3",
   "version": "3.11.0"
  }
 },
 "nbformat": 4,
 "nbformat_minor": 5
}
