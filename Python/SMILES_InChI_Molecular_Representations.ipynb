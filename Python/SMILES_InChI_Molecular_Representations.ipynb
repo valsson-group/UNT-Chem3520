{
  "nbformat": 4,
  "nbformat_minor": 0,
  "metadata": {
    "colab": {
      "provenance": [],
      "collapsed_sections": [
        "_jR3EjKnMkh8"
      ],
      "include_colab_link": true
    },
    "kernelspec": {
      "name": "python3",
      "display_name": "Python 3"
    },
    "language_info": {
      "name": "python"
    }
  },
  "cells": [
    {
      "cell_type": "markdown",
      "metadata": {
        "id": "view-in-github",
        "colab_type": "text"
      },
      "source": [
        "<a href=\"https://colab.research.google.com/github/valsson-group/UNT-Chem3520/blob/main/Python/SMILES_InChI_Molecular_Representations.ipynb\" target=\"_parent\"><img src=\"https://colab.research.google.com/assets/colab-badge.svg\" alt=\"Open In Colab\"/></a>"
      ]
    },
    {
      "cell_type": "markdown",
      "source": [
        "# SMILES and InChl Molecular Representations\n",
        "\n"
      ],
      "metadata": {
        "id": "RIPXBsdlgm0j"
      }
    },
    {
      "cell_type": "markdown",
      "source": [
        "# Imports and Function Definitions"
      ],
      "metadata": {
        "id": "_jR3EjKnMkh8"
      }
    },
    {
      "cell_type": "code",
      "execution_count": null,
      "metadata": {
        "id": "e8QZ9jJ1BcgK"
      },
      "outputs": [],
      "source": [
        "%%capture\n",
        "!pip install rdkit\n",
        "!pip install py3Dmol\n",
        "!pip install ipywidgets"
      ]
    },
    {
      "cell_type": "code",
      "source": [
        "# RDKit imports:\n",
        "from rdkit import Chem\n",
        "from rdkit.Chem import (\n",
        "    AllChem,\n",
        "    rdCoordGen,\n",
        ")\n",
        "from rdkit.Chem.Draw import IPythonConsole\n",
        "\n",
        "IPythonConsole.ipython_useSVG = True\n",
        "\n",
        "import py3Dmol"
      ],
      "metadata": {
        "id": "Aqqt3FznBur1"
      },
      "execution_count": null,
      "outputs": []
    },
    {
      "cell_type": "code",
      "source": [
        "def get_xyz(molecule, optimize=False):\n",
        "    \"\"\"Get xyz-coordinates for the molecule\"\"\"\n",
        "    mol = Chem.Mol(molecule)\n",
        "    mol = AllChem.AddHs(mol, addCoords=True)\n",
        "    AllChem.EmbedMolecule(mol)\n",
        "    if optimize:  # Optimize the molecules with the MM force field:\n",
        "        AllChem.MMFFOptimizeMolecule(mol)\n",
        "    xyz = []\n",
        "    for lines in Chem.MolToXYZBlock(mol).split(\"\\n\")[2:]:\n",
        "        strip = lines.strip()\n",
        "        if strip:\n",
        "            xyz.append(strip)\n",
        "    xyz = \"\\n\".join(xyz)\n",
        "    return mol, xyz"
      ],
      "metadata": {
        "id": "l6qnmU6QCjMZ"
      },
      "execution_count": null,
      "outputs": []
    },
    {
      "cell_type": "markdown",
      "source": [
        "# Molecule from SMILES String"
      ],
      "metadata": {
        "id": "5NYe7vLLM2cO"
      }
    },
    {
      "cell_type": "markdown",
      "source": [
        "### Define SMILES String for Molecule\n",
        "\n"
      ],
      "metadata": {
        "id": "ctJdKmrBNPyl"
      }
    },
    {
      "cell_type": "code",
      "source": [
        "molecule_smiles = \"CN1CCN(CC1)C2=NC3=C(C=CC(=C3)Cl)NC4=CC=CC=C42\" #@param {type:\"string\"}\n",
        "\n"
      ],
      "metadata": {
        "id": "W5A8iNv9C3I8",
        "cellView": "form"
      },
      "execution_count": null,
      "outputs": []
    },
    {
      "cell_type": "markdown",
      "source": [
        "## Do All Calculations"
      ],
      "metadata": {
        "id": "U3gKDuqPPxpo"
      }
    },
    {
      "cell_type": "code",
      "source": [
        "molecule = Chem.MolFromSmiles(molecule_smiles)\n",
        "molecule"
      ],
      "metadata": {
        "id": "GkFYAMAbPw2H"
      },
      "execution_count": null,
      "outputs": []
    },
    {
      "cell_type": "markdown",
      "source": [
        "### Get XYZ Cartesian Coordinates"
      ],
      "metadata": {
        "id": "D77DGFVAM2TS"
      }
    },
    {
      "cell_type": "code",
      "source": [
        "molecule3d, xyz = get_xyz(molecule, optimize=True)\n",
        "print(xyz)"
      ],
      "metadata": {
        "id": "B2m13TLILoHC"
      },
      "execution_count": null,
      "outputs": []
    },
    {
      "cell_type": "markdown",
      "source": [
        "### Visualize 3D Molecular Structure"
      ],
      "metadata": {
        "id": "GPlaETjWNzgU"
      }
    },
    {
      "cell_type": "code",
      "source": [
        "view = py3Dmol.view(\n",
        "    data=Chem.MolToMolBlock(molecule3d),\n",
        "    style={\"stick\": {}, \"sphere\": {\"scale\": 0.3}},\n",
        "    width=600,\n",
        "    height=600,\n",
        ")\n",
        "view.zoomTo()"
      ],
      "metadata": {
        "id": "2tKcS6x_Lteb"
      },
      "execution_count": null,
      "outputs": []
    },
    {
      "cell_type": "markdown",
      "source": [
        "# Molecule from InChi String"
      ],
      "metadata": {
        "id": "Pau7gfftOP2N"
      }
    },
    {
      "cell_type": "markdown",
      "source": [
        "### Define InChi String for Molecule"
      ],
      "metadata": {
        "id": "KQitRB7vOYvM"
      }
    },
    {
      "cell_type": "code",
      "source": [
        "molecule_Inchi = \"InChI=1S/C20H28O/c1-16(8-6-9-17(2)13-15-21)11-12-19-18(3)10-7-14-20(19,4)5/h6,8-9,11-13,15H,7,10,14H2,1-5H3/b9-6-,12-11+,16-8+,17-13+\"\n"
      ],
      "metadata": {
        "id": "BcTEKmJTMECP"
      },
      "execution_count": null,
      "outputs": []
    },
    {
      "cell_type": "markdown",
      "source": [
        "## Do All Calculations"
      ],
      "metadata": {
        "id": "yaMGobqbQMFh"
      }
    },
    {
      "cell_type": "code",
      "source": [
        "molecule = Chem.MolFromInchi(molecule_Inchi)\n",
        "molecule"
      ],
      "metadata": {
        "id": "f7tCS4KtQK0Y"
      },
      "execution_count": null,
      "outputs": []
    },
    {
      "cell_type": "markdown",
      "source": [
        "### Get XYZ Cartesian Coordinates"
      ],
      "metadata": {
        "id": "FHX9SpxyOnml"
      }
    },
    {
      "cell_type": "code",
      "source": [
        "molecule3d, xyz = get_xyz(molecule, optimize=True)\n",
        "print(xyz)"
      ],
      "metadata": {
        "id": "u1L3JCl3MaWR"
      },
      "execution_count": null,
      "outputs": []
    },
    {
      "cell_type": "markdown",
      "source": [
        "### Visualize 3D Molecular Structure"
      ],
      "metadata": {
        "id": "9v2Co-IqOy2e"
      }
    },
    {
      "cell_type": "code",
      "source": [
        "view = py3Dmol.view(\n",
        "    data=Chem.MolToMolBlock(molecule3d),\n",
        "    style={\"stick\": {}, \"sphere\": {\"scale\": 0.3}},\n",
        "    width=600,\n",
        "    height=600,\n",
        ")\n",
        "view.zoomTo()"
      ],
      "metadata": {
        "id": "5tJo9oQ8McCk"
      },
      "execution_count": null,
      "outputs": []
    }
  ]
}