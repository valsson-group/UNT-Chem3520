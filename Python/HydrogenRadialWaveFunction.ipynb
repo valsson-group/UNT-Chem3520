{
  "nbformat": 4,
  "nbformat_minor": 0,
  "metadata": {
    "colab": {
      "provenance": [],
      "authorship_tag": "ABX9TyM0AbGQKL2KJE/Ei9wo+aa7",
      "include_colab_link": true
    },
    "kernelspec": {
      "name": "python3",
      "display_name": "Python 3"
    },
    "language_info": {
      "name": "python"
    }
  },
  "cells": [
    {
      "cell_type": "markdown",
      "metadata": {
        "id": "view-in-github",
        "colab_type": "text"
      },
      "source": [
        "<a href=\"https://colab.research.google.com/github/valsson-group/UNT-Chem3520/blob/main/Python/HydrogenRadialWaveFunction.ipynb\" target=\"_parent\"><img src=\"https://colab.research.google.com/assets/colab-badge.svg\" alt=\"Open In Colab\"/></a>"
      ]
    },
    {
      "cell_type": "code",
      "execution_count": null,
      "metadata": {
        "id": "08FBVqHalqrG"
      },
      "outputs": [],
      "source": [
        "import numpy as np\n",
        "import matplotlib.pyplot as plt\n",
        "import scipy.special as sp\n"
      ]
    },
    {
      "cell_type": "code",
      "source": [
        "def radial_wave_function(r,n,l):\n",
        "  if (l >= n):\n",
        "    print(\"l must be smaller than n\")\n",
        "    return\n",
        "  laguerre = sp.genlaguerre(n - l - 1, 2 * l + 1)\n",
        "  rho = (2 * r) / n\n",
        "  constant_factor = np.sqrt(\n",
        "        ((2 / n) ** 3 * (sp.factorial(n - l - 1))) /\n",
        "        (2 * n * (sp.factorial(n + l)))\n",
        "  )\n",
        "  return constant_factor * np.exp(-rho / 2) * (rho ** l) * laguerre(rho)\n",
        "\n",
        "def get_radial_wave_function(n=1,l=0,num_points=1000,r_min=0,r_max=100):\n",
        "  if (l >= n):\n",
        "    print(\"l must be smaller than n\")\n",
        "    return\n",
        "  r = np.linspace(r_min,r_max,num_points)\n",
        "  radial_wf = radial_wave_function(r,n,l)\n",
        "  radial_pdf = radial_wf**2*r**2\n",
        "  return (r,radial_wf,radial_pdf)\n",
        "\n",
        "def plot_radial_wf(n=1,l=0,r_max=10,Show_RadialWavefunction=True,Show_RadialDistributionFunction=True,SaveFig=False):\n",
        "  (r,radial_wf,radial_pdf) = get_radial_wave_function(n,l,r_max=r_max)\n",
        "  if Show_RadialWavefunction:\n",
        "    plt.plot(r,radial_wf,linestyle=\"--\",linewidth=3,color=\"red\",label=\"R_({:d},{:d})(r)/(Z/a_0)\".format(n,l))\n",
        "  if Show_RadialDistributionFunction:\n",
        "    plt.plot(r,radial_pdf,\"-\",color=\"blue\",linewidth=3,label=\"P_({:d},{:d})(r)/(Z/a_0)\".format(n,l))\n",
        "  plt.axhline(0,color=\"black\",linestyle=\"--\")\n",
        "  plt.legend()\n",
        "  plt.title(\"Hydrogenic Atoms - Radial WF - n={:d}, l={:d}\".format(n,l))\n",
        "  plt.xlabel(\"Zr/a_0\")\n",
        "  plt.xlim([0,r_max])\n",
        "  if SaveFig:\n",
        "    plt.savefig(\"radial_n={:d}_l={:d}.png\".format(n,l))"
      ],
      "metadata": {
        "id": "e0zD3igimu3d"
      },
      "execution_count": null,
      "outputs": []
    },
    {
      "cell_type": "code",
      "source": [
        "n=1 #@param {type:\"integer\"}\n",
        "l=0 #@param {type:\"integer\"}\n",
        "r_max=6 #@param {type:\"integer\"}\n",
        "Show_RadialWavefunction=True #@param {type:\"boolean\"}\n",
        "Show_RadialDistributionFunction=True #@param {type:\"boolean\"}\n",
        "\n",
        "plot_radial_wf(n,\n",
        "               l,\n",
        "               r_max,\n",
        "               Show_RadialWavefunction=Show_RadialWavefunction,\n",
        "               Show_RadialDistributionFunction=Show_RadialDistributionFunction)\n"
      ],
      "metadata": {
        "id": "h4zJbaEGqvJw",
        "cellView": "form"
      },
      "execution_count": null,
      "outputs": []
    }
  ]
}